{
 "cells": [
  {
   "cell_type": "code",
   "execution_count": 1,
   "metadata": {},
   "outputs": [
    {
     "ename": "NameError",
     "evalue": "name 'Dict' is not defined",
     "output_type": "error",
     "traceback": [
      "\u001b[1;31m---------------------------------------------------------------------------\u001b[0m",
      "\u001b[1;31mNameError\u001b[0m                                 Traceback (most recent call last)",
      "Cell \u001b[1;32mIn[1], line 10\u001b[0m\n\u001b[0;32m      7\u001b[0m \u001b[38;5;28;01mfrom\u001b[39;00m \u001b[38;5;21;01mmechanisms\u001b[39;00m\u001b[38;5;21;01m.\u001b[39;00m\u001b[38;5;21;01msimple_weighting_mechanism\u001b[39;00m \u001b[38;5;28;01mimport\u001b[39;00m SimpleCredentialWeightingMechanism\n\u001b[0;32m      9\u001b[0m \u001b[38;5;66;03m# Analytics Tools\u001b[39;00m\n\u001b[1;32m---> 10\u001b[0m \u001b[38;5;28;01mfrom\u001b[39;00m \u001b[38;5;21;01mmetrics\u001b[39;00m\u001b[38;5;21;01m.\u001b[39;00m\u001b[38;5;21;01mplutocracy\u001b[39;00m \u001b[38;5;28;01mimport\u001b[39;00m calc_nakamoto_coefficient\n\u001b[0;32m     12\u001b[0m \u001b[38;5;66;03m# Aggregation Rules\u001b[39;00m\n\u001b[0;32m     13\u001b[0m \u001b[38;5;28;01mfrom\u001b[39;00m \u001b[38;5;21;01mmechanisms\u001b[39;00m\u001b[38;5;21;01m.\u001b[39;00m\u001b[38;5;21;01msingle_choice_weighted_plurality\u001b[39;00m \u001b[38;5;28;01mimport\u001b[39;00m SingleChoiceWeightedPlurality\n",
      "File \u001b[1;32mc:\\Users\\andre\\Desktop\\basic-voting-calc\\examples\\..\\metrics\\plutocracy.py:1\u001b[0m\n\u001b[1;32m----> 1\u001b[0m \u001b[38;5;28;01mdef\u001b[39;00m \u001b[38;5;21mcalc_nakamoto_coefficient\u001b[39m(weighted_voters: \u001b[43mDict\u001b[49m[\u001b[38;5;28mstr\u001b[39m, Dict[\u001b[38;5;28mstr\u001b[39m, \u001b[38;5;28mfloat\u001b[39m]],\n\u001b[0;32m      2\u001b[0m                          verbose \u001b[38;5;241m=\u001b[39m \u001b[38;5;28;01mFalse\u001b[39;00m):\n\u001b[0;32m      3\u001b[0m \u001b[38;5;250m    \u001b[39m\u001b[38;5;124;03m\"\"\"\u001b[39;00m\n\u001b[0;32m      4\u001b[0m \u001b[38;5;124;03m    Calculates the smallest number of voters necessary to form an invincible plutocracy.\u001b[39;00m\n\u001b[0;32m      5\u001b[0m \u001b[38;5;124;03m    \"\"\"\u001b[39;00m\n\u001b[0;32m      6\u001b[0m     \u001b[38;5;66;03m# Do checking on format\u001b[39;00m\n",
      "\u001b[1;31mNameError\u001b[0m: name 'Dict' is not defined"
     ]
    }
   ],
   "source": [
    "import sys\n",
    "sys.path.append(\"..\")\n",
    "\n",
    "from typing import Dict, List\n",
    "\n",
    "# Weighting Mechanism\n",
    "from mechanisms.simple_weighting_mechanism import SimpleCredentialWeightingMechanism\n",
    "\n",
    "# Analytics Tools\n",
    "from metrics.plutocracy import calc_nakamoto_coefficient\n",
    "\n",
    "# Aggregation Rules\n",
    "from mechanisms.single_choice_weighted_plurality import SingleChoiceWeightedPlurality"
   ]
  },
  {
   "cell_type": "code",
   "execution_count": null,
   "metadata": {},
   "outputs": [],
   "source": [
    "weights = {\"NFT_1\": 1.0,\n",
    "           \"NFT_2\": 2.0,\n",
    "           \"NFT_3\": 5.0\n",
    "}"
   ]
  },
  {
   "cell_type": "code",
   "execution_count": null,
   "metadata": {},
   "outputs": [],
   "source": [
    "voters = {\"voter_1\": [\"NFT_1\"],\n",
    "          \"voter_2\": [\"NFT_1\", \"NFT_3\"],\n",
    "          \"voter_3\": [\"NFT_2\"],\n",
    "          \"voter_4\": [\"NFT_1\", \"NFT_2\", \"NFT_3\"]\n",
    "          }"
   ]
  },
  {
   "cell_type": "code",
   "execution_count": null,
   "metadata": {},
   "outputs": [],
   "source": [
    "SCWM = SimpleCredentialWeightingMechanism(credentials = [\"NFT_1\", \"NFT_2\", \"NFT_3\"],\n",
    "                                          credential_weights=weights)"
   ]
  },
  {
   "cell_type": "code",
   "execution_count": null,
   "metadata": {},
   "outputs": [],
   "source": [
    "weighted_voters = SCWM.calc_voter_weights(voters = voters)"
   ]
  },
  {
   "cell_type": "code",
   "execution_count": null,
   "metadata": {},
   "outputs": [],
   "source": [
    "weighted_voters"
   ]
  },
  {
   "cell_type": "markdown",
   "metadata": {},
   "source": [
    "## Doing Analysis on Weight Distribution"
   ]
  },
  {
   "cell_type": "code",
   "execution_count": null,
   "metadata": {},
   "outputs": [],
   "source": [
    "calc_nakamoto_coefficient(weighted_voters = weighted_voters,\n",
    "                     verbose = True)"
   ]
  },
  {
   "cell_type": "markdown",
   "metadata": {},
   "source": [
    "## Calculating Results Using the SingleChoiceWeightedPlurality rule"
   ]
  },
  {
   "cell_type": "code",
   "execution_count": null,
   "metadata": {},
   "outputs": [],
   "source": [
    "plurality = SingleChoiceWeightedPlurality()"
   ]
  },
  {
   "cell_type": "code",
   "execution_count": null,
   "metadata": {},
   "outputs": [],
   "source": [
    "voter_choices = {\"voter_1\": \"candidate_A\",\n",
    "                  \"voter_2\": \"candidate_A\",\n",
    "                  \"voter_3\": \"candidate_B\",\n",
    "                  \"voter_4\": \"candidate_B\"}"
   ]
  },
  {
   "cell_type": "code",
   "execution_count": null,
   "metadata": {},
   "outputs": [],
   "source": [
    "winner, candidate_scores = plurality.calculate(weighted_voters,\n",
    "                                               voter_choices)"
   ]
  },
  {
   "cell_type": "code",
   "execution_count": null,
   "metadata": {},
   "outputs": [],
   "source": [
    "print(f\"The winner is {winner}.\")"
   ]
  },
  {
   "cell_type": "code",
   "execution_count": null,
   "metadata": {},
   "outputs": [],
   "source": [
    "print(f\"Results can be seen here: {candidate_scores}.\")"
   ]
  },
  {
   "cell_type": "code",
   "execution_count": null,
   "metadata": {},
   "outputs": [],
   "source": []
  }
 ],
 "metadata": {
  "kernelspec": {
   "display_name": "Python 3",
   "language": "python",
   "name": "python3"
  },
  "language_info": {
   "codemirror_mode": {
    "name": "ipython",
    "version": 3
   },
   "file_extension": ".py",
   "mimetype": "text/x-python",
   "name": "python",
   "nbconvert_exporter": "python",
   "pygments_lexer": "ipython3",
   "version": "3.11.6"
  }
 },
 "nbformat": 4,
 "nbformat_minor": 2
}
